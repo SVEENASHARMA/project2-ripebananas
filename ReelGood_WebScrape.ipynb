{
 "cells": [
  {
   "cell_type": "code",
   "execution_count": null,
   "metadata": {},
   "outputs": [],
   "source": [
    "# Dependencies\n",
    "from bs4 import BeautifulSoup\n",
    "import requests\n",
    "import pandas as pd"
   ]
  },
  {
   "cell_type": "code",
   "execution_count": null,
   "metadata": {},
   "outputs": [],
   "source": [
    "#Inidividual Title Search\n",
    "query = input('What title are you looking for?')"
   ]
  },
  {
   "cell_type": "code",
   "execution_count": null,
   "metadata": {},
   "outputs": [],
   "source": [
    "#Set the URL\n",
    "base_url = 'https://reelgood.com'\n",
    "url = f\"{base_url}/search?q='{query}'\"\n",
    "print(url)"
   ]
  },
  {
   "cell_type": "code",
   "execution_count": null,
   "metadata": {},
   "outputs": [],
   "source": [
    "# Retrieve page with the requests\n",
    "response = requests.get(url)\n",
    "soup = BeautifulSoup(response.text, 'html.parser')\n",
    "link = soup.select('.e1qyeclq5 a')[0]['href']\n",
    "show_url = base_url + link\n",
    "print(show_url)"
   ]
  },
  {
   "cell_type": "code",
   "execution_count": null,
   "metadata": {},
   "outputs": [],
   "source": [
    "#Prepping response\n",
    "show_response = requests.get(show_url)\n",
    "show_soup = BeautifulSoup(show_response.text, 'html.parser')"
   ]
  },
  {
   "cell_type": "code",
   "execution_count": null,
   "metadata": {},
   "outputs": [],
   "source": [
    "#Narrowing Script\n",
    "services = show_soup.select('.e126mwsw1 span[class*=hou113]')"
   ]
  },
  {
   "cell_type": "code",
   "execution_count": null,
   "metadata": {},
   "outputs": [],
   "source": [
    "#Iterative Scrape\n",
    "title = ''\n",
    "desc = '' \n",
    "feature_img = '' \n",
    "meta = ''\n",
    "recommended = ''\n",
    "genre = ''\n",
    "rating = ''\n",
    "maturity = ''\n",
    "country = ''\n",
    "try:\n",
    "    title = show_soup.select('h1.e14injhv7')[0].text\n",
    "    desc = show_soup.select('p[itemprop=description]')[0].text \n",
    "    feature_img = show_soup.select('.e1x40mdt0 picture.e1181ybh0 img.e1181ybh1')[0]['src']  \n",
    "    recommended = show_soup.select('.e1yfir8f4 .e1qyeclq4') \n",
    "    genre = show_soup.find('a',class_='css-10wrqt0').text\n",
    "    rating = show_soup.find('span', class_='ey4ir3j3').text\n",
    "    maturity = show_soup.select('span[title*=rating]')[0].text\n",
    "    country = show_soup.select('.css-10wrqt0[href*=origin]')[0].text\n",
    "except:\n",
    "    print('error')"
   ]
  },
  {
   "cell_type": "code",
   "execution_count": null,
   "metadata": {},
   "outputs": [],
   "source": [
    "#Individual Search Dictionary\n",
    "dic_list = {\n",
    "    'title': title,\n",
    "    'description': desc,\n",
    "    'feature_img': feature_img ,\n",
    "    'genre' : genre,\n",
    "    'rating': rating,\n",
    "    'maturity':maturity,\n",
    "    'country':country,\n",
    "    'recommended':[r.text for r in recommended]\n",
    "} \n",
    "dic_list"
   ]
  },
  {
   "cell_type": "code",
   "execution_count": null,
   "metadata": {},
   "outputs": [],
   "source": [
    "#Netflix Search URL\n",
    "netflix_query = query.replace(\" \",\"%20\")\n",
    "netfind = f\"https://www.netflix.com/search?q={netflix_query}\"\n",
    "print(netfind)"
   ]
  },
  {
   "cell_type": "code",
   "execution_count": null,
   "metadata": {},
   "outputs": [],
   "source": [
    "#Prime Search URL\n",
    "amazon_query = query.replace(\" \",\"+\")\n",
    "amazfind = f\"https://www.amazon.com/s?k={amazon_query}&i=prime-instant-video&ref=nb_sb_noss_2\"\n",
    "print(amazfind)"
   ]
  },
  {
   "cell_type": "code",
   "execution_count": null,
   "metadata": {},
   "outputs": [],
   "source": [
    "#YouTube Search URL\n",
    "youtube_query = query.replace(\" \",\"+\")\n",
    "ytubfind = f'https://www.youtube.com/results?search_query={youtube_query}'\n",
    "print(ytubfind)"
   ]
  },
  {
   "cell_type": "code",
   "execution_count": null,
   "metadata": {},
   "outputs": [],
   "source": [
    "#SERVICE PROVIDER TITLE DB\n",
    "name = input('Please enter your service from this selection: (netflix, amazon, hbo, hulu)? ')\n",
    "#full list: (netflix, amazon, hbo_max, hbo, showtime, hulu, fx_tveverywhere, starz, apple_tv_plus, plex_free, disney_plus, peacock, philo, fubo_tv, epix, cbs_all_access, dc_universe, mubi, discovery_plus, amc_premiere, amc, britbox, ifc, youtube_premium, shudder, criterion_channel, funimation, fandor, hoopla, kanopy, tubi, plutotv, peacock, vudu, imdb_tv, popcornflix, crunchyroll, crackle, acorntv, cinemax, hallmark_movies_now, sundance_tveverywhere, syfy_tveverywhere, tbs, tnt, bet_plus, watch_tcm, comedycentral_tveverywhere, hallmark_everywhere, lifetime_tveverywhere, disneynow, tvision)"
   ]
  },
  {
   "cell_type": "code",
   "execution_count": null,
   "metadata": {},
   "outputs": [],
   "source": [
    "# DB FOR JUST TITLES\n",
    "# for i in range(0, 50050, 50):\n",
    "#     loop_url = f'https://reelgood.com/source/{name}?offset={i}'\n",
    "#     html = BeautifulSoup(requests.get(f\"{loop_url}\").text, \"html.parser\")  \n",
    "#     trs = html.select('table.css-1179hly tbody tr') \n",
    "#     trs\n",
    "#     for tr in trs:\n",
    "#         tds = tr.select('td')  \n",
    "#         for td in tds:\n",
    "#             movietitle_list = td.select(\".e126mwsw1 a[href*='/movie/']\")\n",
    "#             if len(movietitle_list) > 0:\n",
    "#                 moviefull = movietitle_list[0].text\n",
    "#                 print(moviefull)\n",
    "#             tvtitle_list = td.select(\".e126mwsw1 a[href*='/show/']\")\n",
    "#             if len(tvtitle_list) > 0:\n",
    "#                 tvfull = tvtitle_list[0].text\n",
    "#                 print(tvfull)"
   ]
  },
  {
   "cell_type": "code",
   "execution_count": null,
   "metadata": {},
   "outputs": [],
   "source": [
    "#DB FOR TITLES, YEAR, MATURITY, IMDB RATING (FIRST 50)\n",
    "# box_url=f'https://reelgood.com/all'\n",
    "# soup = BeautifulSoup(requests.get(f\"{box_url}\").text, \"html.parser\")  \n",
    "# table = soup.find('table', class_='css-1179hly')\n",
    "# tbody = table.tbody\n",
    "# for tag in tbody.find_all('style'):\n",
    "#     tbody.style.decompose()\n",
    "\n",
    "# subset = pd.read_html(f'<table>{tbody}</table>')[0]\n",
    "# subset.head()"
   ]
  },
  {
   "cell_type": "code",
   "execution_count": null,
   "metadata": {},
   "outputs": [],
   "source": [
    "# #FIRST 50 CONTINUED\n",
    "# cropped = movies_df[[1,3,4,5]]\n",
    "# #cropped.head()\n",
    "# fifty_allservice_df = cropped.rename(columns={list(cropped)[0]:'Title',list(cropped)[1]:'Year',list(cropped)[2]:'Maturity (Age)',list(cropped)[3]:'IMDB Rating'})\n",
    "# fifty_allservice_df.head()"
   ]
  },
  {
   "cell_type": "code",
   "execution_count": null,
   "metadata": {
    "scrolled": false
   },
   "outputs": [],
   "source": [
    "#ALL TITLES FOR SERVICE FROM INPUT\n",
    "for offset in range(0, 'INSERT MAX NUMBER OF RECORDS', 50):\n",
    "    cycle_url = f'https://reelgood.com/source/{name}?offset={offset}'\n",
    "    #print(cycle_url)\n",
    "    soup = BeautifulSoup(requests.get(f\"{cycle_url}\").text, \"html.parser\")  \n",
    "    frame = soup.find('table', class_='css-1179hly')\n",
    "    body = frame.tbody\n",
    "    for tag in body.find_all('style'):\n",
    "        body.style.decompose()\n",
    "    subbed = pd.read_html(f'<table>{body}</table>')[0]\n",
    "    \n",
    "    if offset > 0:\n",
    "        combined_df = combined_df.append(subbed)\n",
    "    else:\n",
    "        combined_df = subbed.copy()\n",
    "           \n",
    "combined_df"
   ]
  },
  {
   "cell_type": "code",
   "execution_count": null,
   "metadata": {},
   "outputs": [],
   "source": [
    "#Polish\n",
    "polished = combined_df[[1,3,4,5]]\n",
    "#polished.head()\n",
    "allservice_df = polished.rename(columns={list(polished)[0]:'Title',list(polished)[1]:'Year',list(polished)[2]:'Maturity (Age)',list(polished)[3]:'IMDB Rating'})\n",
    "allservice_df['IMDB Rating'] = allservice_df['IMDB Rating'].str.replace('/', ' out of ')\n",
    "#allservice_df"
   ]
  },
  {
   "cell_type": "code",
   "execution_count": null,
   "metadata": {},
   "outputs": [],
   "source": [
    "#TO CSV\n",
    "#fifty_allservice_df.to_csv(f'{name}.csv',index=False)\n",
    "allservice_df.to_csv(f'{name}.csv',index=False)"
   ]
  },
  {
   "cell_type": "code",
   "execution_count": null,
   "metadata": {},
   "outputs": [],
   "source": [
    "#TO JSON\n",
    "#derulo = allservice_df.to_json(orient='records')\n",
    "#derulo"
   ]
  }
 ],
 "metadata": {
  "kernelspec": {
   "display_name": "Python 3",
   "language": "python",
   "name": "python3"
  },
  "language_info": {
   "codemirror_mode": {
    "name": "ipython",
    "version": 3
   },
   "file_extension": ".py",
   "mimetype": "text/x-python",
   "name": "python",
   "nbconvert_exporter": "python",
   "pygments_lexer": "ipython3",
   "version": "3.8.3"
  }
 },
 "nbformat": 4,
 "nbformat_minor": 4
}
